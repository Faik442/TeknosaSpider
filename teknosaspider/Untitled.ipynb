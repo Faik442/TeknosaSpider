{
 "cells": [
  {
   "cell_type": "code",
   "execution_count": 36,
   "metadata": {},
   "outputs": [],
   "source": [
    "import pandas as pd\n",
    "import numpy as np\n",
    "import seaborn as sns\n",
    "\n",
    "import matplotlib.pyplot as plt\n",
    "import chart_studio.plotly as py\n"
   ]
  },
  {
   "cell_type": "code",
   "execution_count": 37,
   "metadata": {},
   "outputs": [],
   "source": [
    "tek_data = pd.read_csv('/home/faik/PycharmProjects/TeknosaSpider/teknosaspider/product.csv')"
   ]
  },
  {
   "cell_type": "code",
   "execution_count": 38,
   "metadata": {},
   "outputs": [
    {
     "data": {
      "text/html": [
       "<div>\n",
       "<style scoped>\n",
       "    .dataframe tbody tr th:only-of-type {\n",
       "        vertical-align: middle;\n",
       "    }\n",
       "\n",
       "    .dataframe tbody tr th {\n",
       "        vertical-align: top;\n",
       "    }\n",
       "\n",
       "    .dataframe thead th {\n",
       "        text-align: right;\n",
       "    }\n",
       "</style>\n",
       "<table border=\"1\" class=\"dataframe\">\n",
       "  <thead>\n",
       "    <tr style=\"text-align: right;\">\n",
       "      <th></th>\n",
       "      <th>product_name</th>\n",
       "      <th>product_price</th>\n",
       "      <th>product_rate</th>\n",
       "      <th>tech_detail_1</th>\n",
       "      <th>tech_detail_2</th>\n",
       "    </tr>\n",
       "  </thead>\n",
       "  <tbody>\n",
       "    <tr>\n",
       "      <th>0</th>\n",
       "      <td>Asus X571GD-AL125T i7-9750H 8GB 512GB PCIE NVI...</td>\n",
       "      <td>9.499 TL</td>\n",
       "      <td>5,0</td>\n",
       "      <td>İşlemci,İşletim sistemi yazılımı,Ethernet LAN ...</td>\n",
       "      <td>i7-9750H,Windows 10 Home,Hayir,6,9. nesil Inte...</td>\n",
       "    </tr>\n",
       "    <tr>\n",
       "      <th>1</th>\n",
       "      <td>Lenovo S130 PETIUM-N5000/4GB/128GB SSD/Intel U...</td>\n",
       "      <td>2.599 TL</td>\n",
       "      <td>4,8</td>\n",
       "      <td>İşlemci,İşletim sistemi yazılımı,Ethernet LAN ...</td>\n",
       "      <td>N5000,Windows 10 Home,Hayir,4,Hayir,Intel® Pen...</td>\n",
       "    </tr>\n",
       "    <tr>\n",
       "      <th>2</th>\n",
       "      <td>HP 15-DB1084NT AMD Athlon 300U 4GB DDR4 RAM 25...</td>\n",
       "      <td>3.099 TL</td>\n",
       "      <td>4,6</td>\n",
       "      <td>İşlemci,İşletim sistemi yazılımı,Ethernet LAN ...</td>\n",
       "      <td>300U,Windows 10 Home,Evet,2,Hayir,AMD Athlon,E...</td>\n",
       "    </tr>\n",
       "    <tr>\n",
       "      <th>3</th>\n",
       "      <td>Casper S500.8265-4C50T-G Gri Notebook</td>\n",
       "      <td>3.419 TL</td>\n",
       "      <td>4,9</td>\n",
       "      <td>İşlemci,İşletim sistemi yazılımı,Ethernet LAN ...</td>\n",
       "      <td>i5-8265U,Windows 10 Home,Evet,4,Hayir,8. nesil...</td>\n",
       "    </tr>\n",
       "    <tr>\n",
       "      <th>4</th>\n",
       "      <td>HP 15-DA1017NT Intel Core i5-8265U 8GB DDR4 1T...</td>\n",
       "      <td>5.649 TL</td>\n",
       "      <td>5,0</td>\n",
       "      <td>İşlemci,İşletim sistemi yazılımı,Ethernet LAN ...</td>\n",
       "      <td>i5-8265U,Windows 10 Home,Evet,4,Hayir,8. nesil...</td>\n",
       "    </tr>\n",
       "  </tbody>\n",
       "</table>\n",
       "</div>"
      ],
      "text/plain": [
       "                                        product_name product_price  \\\n",
       "0  Asus X571GD-AL125T i7-9750H 8GB 512GB PCIE NVI...      9.499 TL   \n",
       "1  Lenovo S130 PETIUM-N5000/4GB/128GB SSD/Intel U...      2.599 TL   \n",
       "2  HP 15-DB1084NT AMD Athlon 300U 4GB DDR4 RAM 25...      3.099 TL   \n",
       "3              Casper S500.8265-4C50T-G Gri Notebook      3.419 TL   \n",
       "4  HP 15-DA1017NT Intel Core i5-8265U 8GB DDR4 1T...      5.649 TL   \n",
       "\n",
       "  product_rate                                      tech_detail_1  \\\n",
       "0          5,0  İşlemci,İşletim sistemi yazılımı,Ethernet LAN ...   \n",
       "1          4,8  İşlemci,İşletim sistemi yazılımı,Ethernet LAN ...   \n",
       "2          4,6  İşlemci,İşletim sistemi yazılımı,Ethernet LAN ...   \n",
       "3          4,9  İşlemci,İşletim sistemi yazılımı,Ethernet LAN ...   \n",
       "4          5,0  İşlemci,İşletim sistemi yazılımı,Ethernet LAN ...   \n",
       "\n",
       "                                       tech_detail_2  \n",
       "0  i7-9750H,Windows 10 Home,Hayir,6,9. nesil Inte...  \n",
       "1  N5000,Windows 10 Home,Hayir,4,Hayir,Intel® Pen...  \n",
       "2  300U,Windows 10 Home,Evet,2,Hayir,AMD Athlon,E...  \n",
       "3  i5-8265U,Windows 10 Home,Evet,4,Hayir,8. nesil...  \n",
       "4  i5-8265U,Windows 10 Home,Evet,4,Hayir,8. nesil...  "
      ]
     },
     "execution_count": 38,
     "metadata": {},
     "output_type": "execute_result"
    }
   ],
   "source": [
    "tek_data.head()"
   ]
  },
  {
   "cell_type": "code",
   "execution_count": 41,
   "metadata": {},
   "outputs": [
    {
     "ename": "ValueError",
     "evalue": "could not convert string to float: 'i7-9750H,Windows 10 Home,Hayir,6,9. nesil Intel® Core™ i7,Evet,Evet,Full HD kalitesi,Laptop,2,1800,21, 9,359,248,15.6,Hayir,Laptop,Gri,8,15.6,1920 x 1080,9. nesil Intel® Core™ i7,Evet,1800,Evet,Full HD kalitesi,1,Laptop,Lityum Polimer (LiPo),UL,  MIC,  CE Marking Compliance,  FCC Compliance,  BSMI,  Australia C-TICK / NZ A-Tick Compliance,  CCC,  GOST-R,  CB,  Energy Star,  IDA,Evet,512,2,Gri,8,SSD,Evet,512,512,Hayir,1,1,5,Evet,Evet,Evet,1,2,8,4,16,Evet,4,Intel® UHD Graphics 630,NVIDIA® GeForce® GTX 1050,Evet,Full HD kalitesi,15.6,16:9,Hayir,1920 x 1080,Full HD kalitesi,Evet,Wi-Fi 5 (802.11ac),Wi-Fi 5 (802.11ac),Hayir,Hayir,Hayir,5,Evet,Evet,i7-9750H,6,4, 5,9. nesil Intel® Core™ i7,Windows 10 Home,Evet,15.6,Lityum Polimer (LiPo),Evet,Evet,Dokunmalı tablet,5,Windows 10 Home,Wi-Fi 5 (802.11ac),1920 x 1080,Hayir,Evet,5,Evet,Laptop,Lityum Polimer (LiPo),UL,  MIC,  CE Marking Compliance,  FCC Compliance,  BSMI,  Australia C-TICK / NZ A-Tick Compliance,  CCC,  GOST-R,  CB,  Energy Star,  IDA,Evet,Gri,15.6'",
     "output_type": "error",
     "traceback": [
      "\u001b[0;31m---------------------------------------------------------------------------\u001b[0m",
      "\u001b[0;31mValueError\u001b[0m                                Traceback (most recent call last)",
      "\u001b[0;32m<ipython-input-41-299433a0933d>\u001b[0m in \u001b[0;36m<module>\u001b[0;34m\u001b[0m\n\u001b[1;32m      4\u001b[0m \u001b[0mtek_detail\u001b[0m \u001b[0;34m=\u001b[0m \u001b[0mtek_data\u001b[0m\u001b[0;34m[\u001b[0m\u001b[0;34m[\u001b[0m\u001b[0;34m'tech_detail_2'\u001b[0m\u001b[0;34m]\u001b[0m\u001b[0;34m]\u001b[0m\u001b[0;34m\u001b[0m\u001b[0;34m\u001b[0m\u001b[0m\n\u001b[1;32m      5\u001b[0m \u001b[0;32mfor\u001b[0m \u001b[0mk\u001b[0m \u001b[0;32min\u001b[0m \u001b[0mrange\u001b[0m\u001b[0;34m(\u001b[0m\u001b[0;36m1\u001b[0m\u001b[0;34m,\u001b[0m \u001b[0;36m10\u001b[0m\u001b[0;34m)\u001b[0m\u001b[0;34m:\u001b[0m\u001b[0;34m\u001b[0m\u001b[0;34m\u001b[0m\u001b[0m\n\u001b[0;32m----> 6\u001b[0;31m     \u001b[0mkmeans\u001b[0m \u001b[0;34m=\u001b[0m \u001b[0mKMeans\u001b[0m\u001b[0;34m(\u001b[0m\u001b[0mn_clusters\u001b[0m\u001b[0;34m=\u001b[0m\u001b[0mk\u001b[0m\u001b[0;34m,\u001b[0m \u001b[0mmax_iter\u001b[0m\u001b[0;34m=\u001b[0m\u001b[0;36m1000\u001b[0m\u001b[0;34m)\u001b[0m\u001b[0;34m.\u001b[0m\u001b[0mfit\u001b[0m\u001b[0;34m(\u001b[0m\u001b[0mtek_detail\u001b[0m\u001b[0;34m)\u001b[0m\u001b[0;34m\u001b[0m\u001b[0;34m\u001b[0m\u001b[0m\n\u001b[0m\u001b[1;32m      7\u001b[0m     \u001b[0mtek_detail\u001b[0m\u001b[0;34m[\u001b[0m\u001b[0;34m\"clusters\"\u001b[0m\u001b[0;34m]\u001b[0m \u001b[0;34m=\u001b[0m \u001b[0mkmeans\u001b[0m\u001b[0;34m.\u001b[0m\u001b[0mlabels_\u001b[0m\u001b[0;34m\u001b[0m\u001b[0;34m\u001b[0m\u001b[0m\n\u001b[1;32m      8\u001b[0m     \u001b[0msse\u001b[0m\u001b[0;34m[\u001b[0m\u001b[0mk\u001b[0m\u001b[0;34m]\u001b[0m \u001b[0;34m=\u001b[0m \u001b[0mkmeans\u001b[0m\u001b[0;34m.\u001b[0m\u001b[0minertia_\u001b[0m\u001b[0;34m\u001b[0m\u001b[0;34m\u001b[0m\u001b[0m\n",
      "\u001b[0;32m~/anaconda3/lib/python3.7/site-packages/sklearn/cluster/_kmeans.py\u001b[0m in \u001b[0;36mfit\u001b[0;34m(self, X, y, sample_weight)\u001b[0m\n\u001b[1;32m    857\u001b[0m         \u001b[0morder\u001b[0m \u001b[0;34m=\u001b[0m \u001b[0;34m\"C\"\u001b[0m \u001b[0;32mif\u001b[0m \u001b[0mself\u001b[0m\u001b[0;34m.\u001b[0m\u001b[0mcopy_x\u001b[0m \u001b[0;32melse\u001b[0m \u001b[0;32mNone\u001b[0m\u001b[0;34m\u001b[0m\u001b[0;34m\u001b[0m\u001b[0m\n\u001b[1;32m    858\u001b[0m         X = check_array(X, accept_sparse='csr', dtype=[np.float64, np.float32],\n\u001b[0;32m--> 859\u001b[0;31m                         order=order, copy=self.copy_x)\n\u001b[0m\u001b[1;32m    860\u001b[0m         \u001b[0;31m# verify that the number of samples given is larger than k\u001b[0m\u001b[0;34m\u001b[0m\u001b[0;34m\u001b[0m\u001b[0;34m\u001b[0m\u001b[0m\n\u001b[1;32m    861\u001b[0m         \u001b[0;32mif\u001b[0m \u001b[0m_num_samples\u001b[0m\u001b[0;34m(\u001b[0m\u001b[0mX\u001b[0m\u001b[0;34m)\u001b[0m \u001b[0;34m<\u001b[0m \u001b[0mself\u001b[0m\u001b[0;34m.\u001b[0m\u001b[0mn_clusters\u001b[0m\u001b[0;34m:\u001b[0m\u001b[0;34m\u001b[0m\u001b[0;34m\u001b[0m\u001b[0m\n",
      "\u001b[0;32m~/anaconda3/lib/python3.7/site-packages/sklearn/utils/validation.py\u001b[0m in \u001b[0;36mcheck_array\u001b[0;34m(array, accept_sparse, accept_large_sparse, dtype, order, copy, force_all_finite, ensure_2d, allow_nd, ensure_min_samples, ensure_min_features, warn_on_dtype, estimator)\u001b[0m\n\u001b[1;32m    529\u001b[0m                     \u001b[0marray\u001b[0m \u001b[0;34m=\u001b[0m \u001b[0marray\u001b[0m\u001b[0;34m.\u001b[0m\u001b[0mastype\u001b[0m\u001b[0;34m(\u001b[0m\u001b[0mdtype\u001b[0m\u001b[0;34m,\u001b[0m \u001b[0mcasting\u001b[0m\u001b[0;34m=\u001b[0m\u001b[0;34m\"unsafe\"\u001b[0m\u001b[0;34m,\u001b[0m \u001b[0mcopy\u001b[0m\u001b[0;34m=\u001b[0m\u001b[0;32mFalse\u001b[0m\u001b[0;34m)\u001b[0m\u001b[0;34m\u001b[0m\u001b[0;34m\u001b[0m\u001b[0m\n\u001b[1;32m    530\u001b[0m                 \u001b[0;32melse\u001b[0m\u001b[0;34m:\u001b[0m\u001b[0;34m\u001b[0m\u001b[0;34m\u001b[0m\u001b[0m\n\u001b[0;32m--> 531\u001b[0;31m                     \u001b[0marray\u001b[0m \u001b[0;34m=\u001b[0m \u001b[0mnp\u001b[0m\u001b[0;34m.\u001b[0m\u001b[0masarray\u001b[0m\u001b[0;34m(\u001b[0m\u001b[0marray\u001b[0m\u001b[0;34m,\u001b[0m \u001b[0morder\u001b[0m\u001b[0;34m=\u001b[0m\u001b[0morder\u001b[0m\u001b[0;34m,\u001b[0m \u001b[0mdtype\u001b[0m\u001b[0;34m=\u001b[0m\u001b[0mdtype\u001b[0m\u001b[0;34m)\u001b[0m\u001b[0;34m\u001b[0m\u001b[0;34m\u001b[0m\u001b[0m\n\u001b[0m\u001b[1;32m    532\u001b[0m             \u001b[0;32mexcept\u001b[0m \u001b[0mComplexWarning\u001b[0m\u001b[0;34m:\u001b[0m\u001b[0;34m\u001b[0m\u001b[0;34m\u001b[0m\u001b[0m\n\u001b[1;32m    533\u001b[0m                 raise ValueError(\"Complex data not supported\\n\"\n",
      "\u001b[0;32m~/anaconda3/lib/python3.7/site-packages/numpy/core/_asarray.py\u001b[0m in \u001b[0;36masarray\u001b[0;34m(a, dtype, order)\u001b[0m\n\u001b[1;32m     83\u001b[0m \u001b[0;34m\u001b[0m\u001b[0m\n\u001b[1;32m     84\u001b[0m     \"\"\"\n\u001b[0;32m---> 85\u001b[0;31m     \u001b[0;32mreturn\u001b[0m \u001b[0marray\u001b[0m\u001b[0;34m(\u001b[0m\u001b[0ma\u001b[0m\u001b[0;34m,\u001b[0m \u001b[0mdtype\u001b[0m\u001b[0;34m,\u001b[0m \u001b[0mcopy\u001b[0m\u001b[0;34m=\u001b[0m\u001b[0;32mFalse\u001b[0m\u001b[0;34m,\u001b[0m \u001b[0morder\u001b[0m\u001b[0;34m=\u001b[0m\u001b[0morder\u001b[0m\u001b[0;34m)\u001b[0m\u001b[0;34m\u001b[0m\u001b[0;34m\u001b[0m\u001b[0m\n\u001b[0m\u001b[1;32m     86\u001b[0m \u001b[0;34m\u001b[0m\u001b[0m\n\u001b[1;32m     87\u001b[0m \u001b[0;34m\u001b[0m\u001b[0m\n",
      "\u001b[0;31mValueError\u001b[0m: could not convert string to float: 'i7-9750H,Windows 10 Home,Hayir,6,9. nesil Intel® Core™ i7,Evet,Evet,Full HD kalitesi,Laptop,2,1800,21, 9,359,248,15.6,Hayir,Laptop,Gri,8,15.6,1920 x 1080,9. nesil Intel® Core™ i7,Evet,1800,Evet,Full HD kalitesi,1,Laptop,Lityum Polimer (LiPo),UL,  MIC,  CE Marking Compliance,  FCC Compliance,  BSMI,  Australia C-TICK / NZ A-Tick Compliance,  CCC,  GOST-R,  CB,  Energy Star,  IDA,Evet,512,2,Gri,8,SSD,Evet,512,512,Hayir,1,1,5,Evet,Evet,Evet,1,2,8,4,16,Evet,4,Intel® UHD Graphics 630,NVIDIA® GeForce® GTX 1050,Evet,Full HD kalitesi,15.6,16:9,Hayir,1920 x 1080,Full HD kalitesi,Evet,Wi-Fi 5 (802.11ac),Wi-Fi 5 (802.11ac),Hayir,Hayir,Hayir,5,Evet,Evet,i7-9750H,6,4, 5,9. nesil Intel® Core™ i7,Windows 10 Home,Evet,15.6,Lityum Polimer (LiPo),Evet,Evet,Dokunmalı tablet,5,Windows 10 Home,Wi-Fi 5 (802.11ac),1920 x 1080,Hayir,Evet,5,Evet,Laptop,Lityum Polimer (LiPo),UL,  MIC,  CE Marking Compliance,  FCC Compliance,  BSMI,  Australia C-TICK / NZ A-Tick Compliance,  CCC,  GOST-R,  CB,  Energy Star,  IDA,Evet,Gri,15.6'"
     ]
    }
   ],
   "source": [
    "from sklearn.cluster import KMeans\n",
    "\n",
    "sse={}\n",
    "tek_detail = tek_data[['tech_detail_2']]\n",
    "for k in range(1, 10):\n",
    "    kmeans = KMeans(n_clusters=k, max_iter=1000).fit(tek_detail)\n",
    "    tek_detail[\"clusters\"] = kmeans.labels_\n",
    "    sse[k] = kmeans.inertia_\n",
    "    \n",
    "plt.figure()\n",
    "plt.plot(list(sse.keys()), list(sse.values()))\n",
    "plt.xlabel(\"Number of clusters\")\n",
    "plt.show()"
   ]
  },
  {
   "cell_type": "code",
   "execution_count": null,
   "metadata": {},
   "outputs": [],
   "source": []
  },
  {
   "cell_type": "code",
   "execution_count": null,
   "metadata": {},
   "outputs": [],
   "source": []
  }
 ],
 "metadata": {
  "kernelspec": {
   "display_name": "Python 3",
   "language": "python",
   "name": "python3"
  },
  "language_info": {
   "codemirror_mode": {
    "name": "ipython",
    "version": 3
   },
   "file_extension": ".py",
   "mimetype": "text/x-python",
   "name": "python",
   "nbconvert_exporter": "python",
   "pygments_lexer": "ipython3",
   "version": "3.7.6"
  }
 },
 "nbformat": 4,
 "nbformat_minor": 4
}
